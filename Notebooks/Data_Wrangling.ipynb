{
 "metadata": {
  "language_info": {
   "codemirror_mode": {
    "name": "ipython",
    "version": 3
   },
   "file_extension": ".py",
   "mimetype": "text/x-python",
   "name": "python",
   "nbconvert_exporter": "python",
   "pygments_lexer": "ipython3",
   "version": "3.9.1"
  },
  "orig_nbformat": 2,
  "kernelspec": {
   "name": "python391jvsc74a57bd0ecf5722fdaf1897a315d257d89d94520bfcaa453217d5becf09b39e73618b0de",
   "display_name": "Python 3.9.1 64-bit ('base': conda)"
  }
 },
 "nbformat": 4,
 "nbformat_minor": 2,
 "cells": [
  {
   "source": [
    "Data Wrangling"
   ],
   "cell_type": "markdown",
   "metadata": {}
  },
  {
   "source": [
    "1) Cleaning Data"
   ],
   "cell_type": "markdown",
   "metadata": {}
  },
  {
   "source": [
    "Dealing with missing data"
   ],
   "cell_type": "markdown",
   "metadata": {}
  },
  {
   "cell_type": "code",
   "execution_count": 1,
   "metadata": {},
   "outputs": [],
   "source": [
    "import pandas as pd"
   ]
  },
  {
   "cell_type": "code",
   "execution_count": 2,
   "metadata": {},
   "outputs": [],
   "source": [
    "df = pd.read_csv('single_family_home_values.csv') #df = dataframe"
   ]
  },
  {
   "cell_type": "code",
   "execution_count": 3,
   "metadata": {},
   "outputs": [
    {
     "output_type": "execute_result",
     "data": {
      "text/plain": [
       "          id            address    city state  zipcode  latitude   longitude  \\\n",
       "0   39525749    8171 E 84th Ave  Denver    CO    80022  39.84916 -104.893468   \n",
       "1  184578398  10556 Wheeling St  Denver    CO    80022  39.88802 -104.830930   \n",
       "\n",
       "   bedrooms  bathrooms  rooms  squareFootage  lotSize  yearBuilt lastSaleDate  \\\n",
       "0         3        2.0      6           1378     9968     2003.0   2009-12-17   \n",
       "1         2        2.0      6           1653     6970     2004.0   2004-09-23   \n",
       "\n",
       "   lastSaleAmount priorSaleDate  priorSaleAmount  estimated_value  \n",
       "0           75000    2004-05-13         165700.0           239753  \n",
       "1          216935           NaN              NaN           343963  "
      ],
      "text/html": "<div>\n<style scoped>\n    .dataframe tbody tr th:only-of-type {\n        vertical-align: middle;\n    }\n\n    .dataframe tbody tr th {\n        vertical-align: top;\n    }\n\n    .dataframe thead th {\n        text-align: right;\n    }\n</style>\n<table border=\"1\" class=\"dataframe\">\n  <thead>\n    <tr style=\"text-align: right;\">\n      <th></th>\n      <th>id</th>\n      <th>address</th>\n      <th>city</th>\n      <th>state</th>\n      <th>zipcode</th>\n      <th>latitude</th>\n      <th>longitude</th>\n      <th>bedrooms</th>\n      <th>bathrooms</th>\n      <th>rooms</th>\n      <th>squareFootage</th>\n      <th>lotSize</th>\n      <th>yearBuilt</th>\n      <th>lastSaleDate</th>\n      <th>lastSaleAmount</th>\n      <th>priorSaleDate</th>\n      <th>priorSaleAmount</th>\n      <th>estimated_value</th>\n    </tr>\n  </thead>\n  <tbody>\n    <tr>\n      <th>0</th>\n      <td>39525749</td>\n      <td>8171 E 84th Ave</td>\n      <td>Denver</td>\n      <td>CO</td>\n      <td>80022</td>\n      <td>39.84916</td>\n      <td>-104.893468</td>\n      <td>3</td>\n      <td>2.0</td>\n      <td>6</td>\n      <td>1378</td>\n      <td>9968</td>\n      <td>2003.0</td>\n      <td>2009-12-17</td>\n      <td>75000</td>\n      <td>2004-05-13</td>\n      <td>165700.0</td>\n      <td>239753</td>\n    </tr>\n    <tr>\n      <th>1</th>\n      <td>184578398</td>\n      <td>10556 Wheeling St</td>\n      <td>Denver</td>\n      <td>CO</td>\n      <td>80022</td>\n      <td>39.88802</td>\n      <td>-104.830930</td>\n      <td>2</td>\n      <td>2.0</td>\n      <td>6</td>\n      <td>1653</td>\n      <td>6970</td>\n      <td>2004.0</td>\n      <td>2004-09-23</td>\n      <td>216935</td>\n      <td>NaN</td>\n      <td>NaN</td>\n      <td>343963</td>\n    </tr>\n  </tbody>\n</table>\n</div>"
     },
     "metadata": {},
     "execution_count": 3
    }
   ],
   "source": [
    "df.head(2) # previews the first two rows of the dataframe"
   ]
  },
  {
   "cell_type": "code",
   "execution_count": 4,
   "metadata": {},
   "outputs": [
    {
     "output_type": "execute_result",
     "data": {
      "text/plain": [
       "pandas.core.frame.DataFrame"
      ]
     },
     "metadata": {},
     "execution_count": 4
    }
   ],
   "source": [
    "type(df) #shows the type of the variable"
   ]
  },
  {
   "cell_type": "code",
   "execution_count": 5,
   "metadata": {},
   "outputs": [
    {
     "output_type": "execute_result",
     "data": {
      "text/plain": [
       "(15000, 18)"
      ]
     },
     "metadata": {},
     "execution_count": 5
    }
   ],
   "source": [
    "df.shape # describes the number of rows and columns of the dataframe"
   ]
  },
  {
   "cell_type": "code",
   "execution_count": 6,
   "metadata": {},
   "outputs": [
    {
     "output_type": "stream",
     "name": "stdout",
     "text": [
      "<class 'pandas.core.frame.DataFrame'>\nRangeIndex: 15000 entries, 0 to 14999\nData columns (total 18 columns):\n #   Column           Non-Null Count  Dtype  \n---  ------           --------------  -----  \n 0   id               15000 non-null  int64  \n 1   address          15000 non-null  object \n 2   city             15000 non-null  object \n 3   state            15000 non-null  object \n 4   zipcode          15000 non-null  int64  \n 5   latitude         14985 non-null  float64\n 6   longitude        14985 non-null  float64\n 7   bedrooms         15000 non-null  int64  \n 8   bathrooms        15000 non-null  float64\n 9   rooms            15000 non-null  int64  \n 10  squareFootage    15000 non-null  int64  \n 11  lotSize          15000 non-null  int64  \n 12  yearBuilt        14999 non-null  float64\n 13  lastSaleDate     15000 non-null  object \n 14  lastSaleAmount   15000 non-null  int64  \n 15  priorSaleDate    11173 non-null  object \n 16  priorSaleAmount  11287 non-null  float64\n 17  estimated_value  15000 non-null  int64  \ndtypes: float64(5), int64(8), object(5)\nmemory usage: 2.1+ MB\n"
     ]
    }
   ],
   "source": [
    "df.info() # summary of each column of the dataframe --> can check for missing values"
   ]
  },
  {
   "cell_type": "code",
   "execution_count": 7,
   "metadata": {},
   "outputs": [
    {
     "output_type": "execute_result",
     "data": {
      "text/plain": [
       "                 id       zipcode      latitude     longitude      bedrooms  \\\n",
       "count  1.500000e+04  15000.000000  14985.000000  14985.000000  15000.000000   \n",
       "mean   5.176229e+07  80204.919467     39.740538   -104.964076      2.708400   \n",
       "std    6.190876e+07      9.715263      0.023555      0.039788      0.897231   \n",
       "min    1.433670e+05  80022.000000     39.614531   -105.108440      0.000000   \n",
       "25%    1.004802e+07  80205.000000     39.727634   -104.978737      2.000000   \n",
       "50%    2.563241e+07  80206.000000     39.748048   -104.957689      3.000000   \n",
       "75%    5.114222e+07  80207.000000     39.758214   -104.937522      3.000000   \n",
       "max    3.209481e+08  80209.000000     39.888020   -104.830930     15.000000   \n",
       "\n",
       "          bathrooms         rooms  squareFootage       lotSize     yearBuilt  \\\n",
       "count  15000.000000  15000.000000   15000.000000   15000.00000  14999.000000   \n",
       "mean       2.195067      6.164133    1514.504400    5820.76620   1929.517168   \n",
       "std        1.166279      1.958601     830.635999    3013.27947     29.937051   \n",
       "min        0.000000      0.000000     350.000000     278.00000   1874.000000   \n",
       "25%        1.000000      5.000000     986.000000    4620.00000   1907.000000   \n",
       "50%        2.000000      6.000000    1267.500000    5950.00000   1925.000000   \n",
       "75%        3.000000      7.000000    1766.250000    6270.00000   1949.000000   \n",
       "max       12.000000     39.000000   10907.000000  122839.00000   2016.000000   \n",
       "\n",
       "       lastSaleAmount  priorSaleAmount  estimated_value  \n",
       "count    1.500000e+04     1.128700e+04     1.500000e+04  \n",
       "mean     4.053563e+05     2.594350e+05     6.371625e+05  \n",
       "std      7.756998e+05     3.379387e+05     5.044185e+05  \n",
       "min      2.590000e+02     0.000000e+00     1.477670e+05  \n",
       "25%      1.940000e+05     1.100000e+05     3.984348e+05  \n",
       "50%      3.200000e+05     2.100000e+05     5.183575e+05  \n",
       "75%      4.632000e+05     3.302400e+05     6.879692e+05  \n",
       "max      4.560000e+07     1.600000e+07     1.014531e+07  "
      ],
      "text/html": "<div>\n<style scoped>\n    .dataframe tbody tr th:only-of-type {\n        vertical-align: middle;\n    }\n\n    .dataframe tbody tr th {\n        vertical-align: top;\n    }\n\n    .dataframe thead th {\n        text-align: right;\n    }\n</style>\n<table border=\"1\" class=\"dataframe\">\n  <thead>\n    <tr style=\"text-align: right;\">\n      <th></th>\n      <th>id</th>\n      <th>zipcode</th>\n      <th>latitude</th>\n      <th>longitude</th>\n      <th>bedrooms</th>\n      <th>bathrooms</th>\n      <th>rooms</th>\n      <th>squareFootage</th>\n      <th>lotSize</th>\n      <th>yearBuilt</th>\n      <th>lastSaleAmount</th>\n      <th>priorSaleAmount</th>\n      <th>estimated_value</th>\n    </tr>\n  </thead>\n  <tbody>\n    <tr>\n      <th>count</th>\n      <td>1.500000e+04</td>\n      <td>15000.000000</td>\n      <td>14985.000000</td>\n      <td>14985.000000</td>\n      <td>15000.000000</td>\n      <td>15000.000000</td>\n      <td>15000.000000</td>\n      <td>15000.000000</td>\n      <td>15000.00000</td>\n      <td>14999.000000</td>\n      <td>1.500000e+04</td>\n      <td>1.128700e+04</td>\n      <td>1.500000e+04</td>\n    </tr>\n    <tr>\n      <th>mean</th>\n      <td>5.176229e+07</td>\n      <td>80204.919467</td>\n      <td>39.740538</td>\n      <td>-104.964076</td>\n      <td>2.708400</td>\n      <td>2.195067</td>\n      <td>6.164133</td>\n      <td>1514.504400</td>\n      <td>5820.76620</td>\n      <td>1929.517168</td>\n      <td>4.053563e+05</td>\n      <td>2.594350e+05</td>\n      <td>6.371625e+05</td>\n    </tr>\n    <tr>\n      <th>std</th>\n      <td>6.190876e+07</td>\n      <td>9.715263</td>\n      <td>0.023555</td>\n      <td>0.039788</td>\n      <td>0.897231</td>\n      <td>1.166279</td>\n      <td>1.958601</td>\n      <td>830.635999</td>\n      <td>3013.27947</td>\n      <td>29.937051</td>\n      <td>7.756998e+05</td>\n      <td>3.379387e+05</td>\n      <td>5.044185e+05</td>\n    </tr>\n    <tr>\n      <th>min</th>\n      <td>1.433670e+05</td>\n      <td>80022.000000</td>\n      <td>39.614531</td>\n      <td>-105.108440</td>\n      <td>0.000000</td>\n      <td>0.000000</td>\n      <td>0.000000</td>\n      <td>350.000000</td>\n      <td>278.00000</td>\n      <td>1874.000000</td>\n      <td>2.590000e+02</td>\n      <td>0.000000e+00</td>\n      <td>1.477670e+05</td>\n    </tr>\n    <tr>\n      <th>25%</th>\n      <td>1.004802e+07</td>\n      <td>80205.000000</td>\n      <td>39.727634</td>\n      <td>-104.978737</td>\n      <td>2.000000</td>\n      <td>1.000000</td>\n      <td>5.000000</td>\n      <td>986.000000</td>\n      <td>4620.00000</td>\n      <td>1907.000000</td>\n      <td>1.940000e+05</td>\n      <td>1.100000e+05</td>\n      <td>3.984348e+05</td>\n    </tr>\n    <tr>\n      <th>50%</th>\n      <td>2.563241e+07</td>\n      <td>80206.000000</td>\n      <td>39.748048</td>\n      <td>-104.957689</td>\n      <td>3.000000</td>\n      <td>2.000000</td>\n      <td>6.000000</td>\n      <td>1267.500000</td>\n      <td>5950.00000</td>\n      <td>1925.000000</td>\n      <td>3.200000e+05</td>\n      <td>2.100000e+05</td>\n      <td>5.183575e+05</td>\n    </tr>\n    <tr>\n      <th>75%</th>\n      <td>5.114222e+07</td>\n      <td>80207.000000</td>\n      <td>39.758214</td>\n      <td>-104.937522</td>\n      <td>3.000000</td>\n      <td>3.000000</td>\n      <td>7.000000</td>\n      <td>1766.250000</td>\n      <td>6270.00000</td>\n      <td>1949.000000</td>\n      <td>4.632000e+05</td>\n      <td>3.302400e+05</td>\n      <td>6.879692e+05</td>\n    </tr>\n    <tr>\n      <th>max</th>\n      <td>3.209481e+08</td>\n      <td>80209.000000</td>\n      <td>39.888020</td>\n      <td>-104.830930</td>\n      <td>15.000000</td>\n      <td>12.000000</td>\n      <td>39.000000</td>\n      <td>10907.000000</td>\n      <td>122839.00000</td>\n      <td>2016.000000</td>\n      <td>4.560000e+07</td>\n      <td>1.600000e+07</td>\n      <td>1.014531e+07</td>\n    </tr>\n  </tbody>\n</table>\n</div>"
     },
     "metadata": {},
     "execution_count": 7
    }
   ],
   "source": [
    "df.describe() #statistics for each column with numerical values"
   ]
  },
  {
   "cell_type": "code",
   "execution_count": null,
   "metadata": {},
   "outputs": [],
   "source": [
    "df.fillna(df.mean()) # fills missing values with the mean value of the column"
   ]
  },
  {
   "cell_type": "code",
   "execution_count": null,
   "metadata": {},
   "outputs": [],
   "source": [
    "df.dropna(inplace=True) # deletes rows where there is NA in a column"
   ]
  },
  {
   "source": [
    "Check for outliers"
   ],
   "cell_type": "markdown",
   "metadata": {}
  },
  {
   "cell_type": "code",
   "execution_count": null,
   "metadata": {},
   "outputs": [],
   "source": [
    "import seaborn as sns"
   ]
  },
  {
   "cell_type": "code",
   "execution_count": null,
   "metadata": {},
   "outputs": [],
   "source": [
    "df.estimated_value # use _ because it does not deal with spaces\n",
    "\n",
    "# or df['estimated_value']"
   ]
  },
  {
   "cell_type": "code",
   "execution_count": null,
   "metadata": {},
   "outputs": [],
   "source": [
    "df[['estimated_value','yearBuilt','priorSaleAmount']].head(2) # you are giving a list"
   ]
  },
  {
   "cell_type": "code",
   "execution_count": null,
   "metadata": {},
   "outputs": [],
   "source": [
    "sns.boxplot(df.estimated_value)"
   ]
  },
  {
   "cell_type": "code",
   "execution_count": null,
   "metadata": {},
   "outputs": [],
   "source": [
    "df= df[df.estimated_value<=800000] #slices df based on outliers; inside [] it is a bool"
   ]
  },
  {
   "cell_type": "code",
   "execution_count": null,
   "metadata": {},
   "outputs": [],
   "source": [
    "sns.boxplot(df.estimated_value)"
   ]
  },
  {
   "cell_type": "code",
   "execution_count": null,
   "metadata": {},
   "outputs": [],
   "source": [
    "df.estimated_value.hist()"
   ]
  },
  {
   "cell_type": "code",
   "execution_count": null,
   "metadata": {},
   "outputs": [],
   "source": [
    "df.zipcode.unique() # gets unique zipocde values"
   ]
  },
  {
   "cell_type": "code",
   "execution_count": null,
   "metadata": {},
   "outputs": [],
   "source": [
    "df[(df.estimated_value<=1000000) | (df.yearBuilt>2013) & (df.zipcode==80209)]"
   ]
  },
  {
   "cell_type": "code",
   "execution_count": null,
   "metadata": {},
   "outputs": [],
   "source": [
    "sns.pairplot(df[['lastSaleAmount','estimated_value']]) # to correlate"
   ]
  },
  {
   "cell_type": "code",
   "execution_count": null,
   "metadata": {},
   "outputs": [],
   "source": [
    "sns.stripplot(x=df.zipcode, y=df.estimated_value)"
   ]
  },
  {
   "cell_type": "code",
   "execution_count": null,
   "metadata": {},
   "outputs": [],
   "source": [
    "sns.violinplot(x=df.zipcode, y=df.estimated_value)"
   ]
  },
  {
   "cell_type": "code",
   "execution_count": null,
   "metadata": {},
   "outputs": [],
   "source": [
    "df['priorSaleDate'] = pd.to_datetime(df.priorSaleDate)\n",
    "df['lastSaleDate'] = pd.to_datetime(df.lastSaleDate)"
   ]
  },
  {
   "cell_type": "code",
   "execution_count": null,
   "metadata": {},
   "outputs": [],
   "source": [
    "df['weekday_lastSaleDate'] = df.lastSaleDate.dt.weekday_name\n",
    "df['year_lastSaleDate'] = df.lastSaleDate.dt.year\n",
    "df['weekday_priorSaleDate'] = df.priorSaleDate.dt.weekday_name\n",
    "df['year_priorSaleDate'] = df.priorSaleDate.dt.year"
   ]
  },
  {
   "cell_type": "code",
   "execution_count": null,
   "metadata": {},
   "outputs": [],
   "source": [
    "df['year_between_last_sales'] = df.year_lastSaleDate - df.year_priorSaleDate #new column"
   ]
  },
  {
   "cell_type": "code",
   "execution_count": null,
   "metadata": {},
   "outputs": [],
   "source": [
    "df.corr() # correlations of all numeric fields"
   ]
  },
  {
   "cell_type": "code",
   "execution_count": null,
   "metadata": {},
   "outputs": [],
   "source": [
    "df.corr().loc['estimated_value',:].sort_values(ascending=False) # correlates estimated value with every column in ascending order"
   ]
  },
  {
   "cell_type": "code",
   "execution_count": null,
   "metadata": {},
   "outputs": [],
   "source": [
    "df.groupby('zipcode').estimated_value().mean().reset.index()"
   ]
  },
  {
   "cell_type": "code",
   "execution_count": null,
   "metadata": {},
   "outputs": [],
   "source": [
    "df2=df.groupby('zipcode').estimated_value().median().reset.index()"
   ]
  },
  {
   "cell_type": "code",
   "execution_count": null,
   "metadata": {},
   "outputs": [],
   "source": [
    "df3=pd.merge(df, df2,on='zipcode',how='left')"
   ]
  }
 ]
}