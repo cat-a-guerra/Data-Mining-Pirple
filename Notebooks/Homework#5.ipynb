{
 "cells": [
  {
   "cell_type": "code",
   "execution_count": 4,
   "metadata": {
    "collapsed": false
   },
   "outputs": [
   ],
   "source": [
    "import pandas as pd\n",
    "import numpy as np"
   ]
  },
  {
   "cell_type": "code",
   "execution_count": 2,
   "metadata": {
    "collapsed": false
   },
   "outputs": [
   ],
   "source": [
    "df = pd.read_csv(\"train_distance_matrix.csv\")"
   ]
  },
  {
   "cell_type": "code",
   "execution_count": 3,
   "metadata": {
    "collapsed": false
   },
   "outputs": [
    {
     "data": {
      "text/html": [
       "<div>\n",
       "<style scoped>\n",
       "    .dataframe tbody tr th:only-of-type {\n",
       "        vertical-align: middle;\n",
       "    }\n",
       "\n",
       "    .dataframe tbody tr th {\n",
       "        vertical-align: top;\n",
       "    }\n",
       "\n",
       "    .dataframe thead th {\n",
       "        text-align: right;\n",
       "    }\n",
       "</style>\n",
       "<table border=\"1\" class=\"dataframe\">\n",
       "  <thead>\n",
       "    <tr style=\"text-align: right;\">\n",
       "      <th></th>\n",
       "      <th>id</th>\n",
       "      <th>vendor_id</th>\n",
       "      <th>pickup_datetime</th>\n",
       "      <th>dropoff_datetime</th>\n",
       "      <th>passenger_count</th>\n",
       "      <th>pickup_longitude</th>\n",
       "      <th>pickup_latitude</th>\n",
       "      <th>dropoff_longitude</th>\n",
       "      <th>dropoff_latitude</th>\n",
       "      <th>store_and_fwd_flag</th>\n",
       "      <th>gc_distance</th>\n",
       "      <th>trip_duration</th>\n",
       "      <th>google_distance</th>\n",
       "      <th>google_duration</th>\n",
       "    </tr>\n",
       "  </thead>\n",
       "  <tbody>\n",
       "    <tr>\n",
       "      <th>0</th>\n",
       "      <td>id0190469</td>\n",
       "      <td>2</td>\n",
       "      <td>1/1/2016 0:00</td>\n",
       "      <td>1/1/2016 0:14</td>\n",
       "      <td>5</td>\n",
       "      <td>-73.981743</td>\n",
       "      <td>40.719158</td>\n",
       "      <td>-73.938828</td>\n",
       "      <td>40.829182</td>\n",
       "      <td>N</td>\n",
       "      <td>7.928830</td>\n",
       "      <td>849</td>\n",
       "      <td>15309.0</td>\n",
       "      <td>1109.0</td>\n",
       "    </tr>\n",
       "    <tr>\n",
       "      <th>1</th>\n",
       "      <td>id1665586</td>\n",
       "      <td>1</td>\n",
       "      <td>1/1/2016 0:00</td>\n",
       "      <td>1/1/2016 0:22</td>\n",
       "      <td>1</td>\n",
       "      <td>-73.985085</td>\n",
       "      <td>40.747166</td>\n",
       "      <td>-73.958038</td>\n",
       "      <td>40.717491</td>\n",
       "      <td>N</td>\n",
       "      <td>2.492482</td>\n",
       "      <td>1294</td>\n",
       "      <td>9970.0</td>\n",
       "      <td>1277.0</td>\n",
       "    </tr>\n",
       "    <tr>\n",
       "      <th>2</th>\n",
       "      <td>id1078247</td>\n",
       "      <td>2</td>\n",
       "      <td>1/1/2016 0:01</td>\n",
       "      <td>1/1/2016 0:03</td>\n",
       "      <td>1</td>\n",
       "      <td>-73.973335</td>\n",
       "      <td>40.764072</td>\n",
       "      <td>-73.974854</td>\n",
       "      <td>40.761734</td>\n",
       "      <td>N</td>\n",
       "      <td>0.180099</td>\n",
       "      <td>114</td>\n",
       "      <td>289.0</td>\n",
       "      <td>79.0</td>\n",
       "    </tr>\n",
       "    <tr>\n",
       "      <th>3</th>\n",
       "      <td>id3609443</td>\n",
       "      <td>1</td>\n",
       "      <td>1/1/2016 0:01</td>\n",
       "      <td>1/1/2016 0:21</td>\n",
       "      <td>2</td>\n",
       "      <td>-73.993103</td>\n",
       "      <td>40.752632</td>\n",
       "      <td>-73.953903</td>\n",
       "      <td>40.816540</td>\n",
       "      <td>N</td>\n",
       "      <td>4.869948</td>\n",
       "      <td>1204</td>\n",
       "      <td>9821.0</td>\n",
       "      <td>1274.0</td>\n",
       "    </tr>\n",
       "    <tr>\n",
       "      <th>4</th>\n",
       "      <td>id3888279</td>\n",
       "      <td>1</td>\n",
       "      <td>1/1/2016 0:01</td>\n",
       "      <td>1/1/2016 0:05</td>\n",
       "      <td>1</td>\n",
       "      <td>-73.982292</td>\n",
       "      <td>40.751331</td>\n",
       "      <td>-73.991341</td>\n",
       "      <td>40.750340</td>\n",
       "      <td>N</td>\n",
       "      <td>0.478682</td>\n",
       "      <td>280</td>\n",
       "      <td>1052.0</td>\n",
       "      <td>345.0</td>\n",
       "    </tr>\n",
       "  </tbody>\n",
       "</table>\n",
       "</div>"
      ],
      "text/plain": [
       "          id  vendor_id pickup_datetime dropoff_datetime  passenger_count  \\\n",
       "0  id0190469          2   1/1/2016 0:00    1/1/2016 0:14                5   \n",
       "1  id1665586          1   1/1/2016 0:00    1/1/2016 0:22                1   \n",
       "2  id1078247          2   1/1/2016 0:01    1/1/2016 0:03                1   \n",
       "3  id3609443          1   1/1/2016 0:01    1/1/2016 0:21                2   \n",
       "4  id3888279          1   1/1/2016 0:01    1/1/2016 0:05                1   \n",
       "\n",
       "   pickup_longitude  pickup_latitude  dropoff_longitude  dropoff_latitude  \\\n",
       "0        -73.981743        40.719158         -73.938828         40.829182   \n",
       "1        -73.985085        40.747166         -73.958038         40.717491   \n",
       "2        -73.973335        40.764072         -73.974854         40.761734   \n",
       "3        -73.993103        40.752632         -73.953903         40.816540   \n",
       "4        -73.982292        40.751331         -73.991341         40.750340   \n",
       "\n",
       "  store_and_fwd_flag  gc_distance  trip_duration  google_distance  \\\n",
       "0                  N     7.928830            849          15309.0   \n",
       "1                  N     2.492482           1294           9970.0   \n",
       "2                  N     0.180099            114            289.0   \n",
       "3                  N     4.869948           1204           9821.0   \n",
       "4                  N     0.478682            280           1052.0   \n",
       "\n",
       "   google_duration  \n",
       "0           1109.0  \n",
       "1           1277.0  \n",
       "2             79.0  \n",
       "3           1274.0  \n",
       "4            345.0  "
      ]
     },
     "execution_count": 3,
     "metadata": {
     },
     "output_type": "execute_result"
    }
   ],
   "source": [
    "df.head(5)"
   ]
  },
  {
   "cell_type": "code",
   "execution_count": 18,
   "metadata": {
    "collapsed": false
   },
   "outputs": [
   ],
   "source": [
    "# Based on the pick-up and drop-off latitudes and longitudes, we intend to estimate the Euclidian distance between those two points in meters, that is, the shortest distance in a straight line between them. To do so, we apply the following formula: sqrt((final_lat - initial_lat)^2 + (final_long - initial_long)^2). Yet, to convert the value to meters, we multiply the longitude and latitude differences by 1.1/0.00001, since 1.1 m correspond to 0.00001º in both measures. In the real world, the Euclidian distance is used frequently as a stand-alone tool for applications, in order to find the nearest point of interest.\n",
    "\n",
    "longitude_difference = np.matrix((np.array(df.dropoff_longitude) - np.array(df.pickup_longitude))*(1.1/0.00001))\n",
    "latitude_difference = np.matrix((np.array(df.dropoff_latitude) - np.array(df.pickup_latitude))*(1.1/0.00001))\n",
    "distance = np.sqrt(np.power(latitude_difference, 2) + np.power(longitude_difference, 2))"
   ]
  }
 ],
 "metadata": {
  "kernelspec": {
   "display_name": "Python 3 (system-wide)",
   "language": "python",
   "metadata": {
    "cocalc": {
     "description": "Python 3 programming language",
     "priority": 100,
     "url": "https://www.python.org/"
    }
   },
   "name": "python3",
   "resource_dir": "/ext/jupyter/kernels/python3"
  },
  "language_info": {
   "codemirror_mode": {
    "name": "ipython",
    "version": 3
   },
   "file_extension": ".py",
   "mimetype": "text/x-python",
   "name": "python",
   "nbconvert_exporter": "python",
   "pygments_lexer": "ipython3",
   "version": "3.8.5"
  }
 },
 "nbformat": 4,
 "nbformat_minor": 4
}