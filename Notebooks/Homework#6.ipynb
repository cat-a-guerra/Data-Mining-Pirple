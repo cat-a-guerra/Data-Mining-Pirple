{
 "cells": [
  {
   "cell_type": "code",
   "execution_count": 1,
   "metadata": {
    "collapsed": false
   },
   "outputs": [
   ],
   "source": [
    "import pandas as pd"
   ]
  },
  {
   "cell_type": "code",
   "execution_count": 4,
   "metadata": {
    "collapsed": false
   },
   "outputs": [
   ],
   "source": [
    "df = pd.read_csv(\"Temperature_Differences_WorldWar2.csv\")"
   ]
  },
  {
   "cell_type": "code",
   "execution_count": 5,
   "metadata": {
    "collapsed": false
   },
   "outputs": [
    {
     "data": {
      "text/html": [
       "<div>\n",
       "<style scoped>\n",
       "    .dataframe tbody tr th:only-of-type {\n",
       "        vertical-align: middle;\n",
       "    }\n",
       "\n",
       "    .dataframe tbody tr th {\n",
       "        vertical-align: top;\n",
       "    }\n",
       "\n",
       "    .dataframe thead th {\n",
       "        text-align: right;\n",
       "    }\n",
       "</style>\n",
       "<table border=\"1\" class=\"dataframe\">\n",
       "  <thead>\n",
       "    <tr style=\"text-align: right;\">\n",
       "      <th></th>\n",
       "      <th>Weather Station</th>\n",
       "      <th>Latitude</th>\n",
       "      <th>Longitude</th>\n",
       "      <th>Date</th>\n",
       "    </tr>\n",
       "  </thead>\n",
       "  <tbody>\n",
       "    <tr>\n",
       "      <th>0</th>\n",
       "      <td>ABADAN</td>\n",
       "      <td>30.366667</td>\n",
       "      <td>48.25</td>\n",
       "      <td>1943-12-23</td>\n",
       "    </tr>\n",
       "    <tr>\n",
       "      <th>1</th>\n",
       "      <td>ABADAN</td>\n",
       "      <td>30.366667</td>\n",
       "      <td>48.25</td>\n",
       "      <td>1944-01-14</td>\n",
       "    </tr>\n",
       "    <tr>\n",
       "      <th>2</th>\n",
       "      <td>ABADAN</td>\n",
       "      <td>30.366667</td>\n",
       "      <td>48.25</td>\n",
       "      <td>1944-01-18</td>\n",
       "    </tr>\n",
       "    <tr>\n",
       "      <th>3</th>\n",
       "      <td>ABADAN</td>\n",
       "      <td>30.366667</td>\n",
       "      <td>48.25</td>\n",
       "      <td>1944-04-18</td>\n",
       "    </tr>\n",
       "    <tr>\n",
       "      <th>4</th>\n",
       "      <td>ABADAN</td>\n",
       "      <td>30.366667</td>\n",
       "      <td>48.25</td>\n",
       "      <td>1944-11-19</td>\n",
       "    </tr>\n",
       "    <tr>\n",
       "      <th>5</th>\n",
       "      <td>ABADAN</td>\n",
       "      <td>30.366667</td>\n",
       "      <td>48.25</td>\n",
       "      <td>1944-11-25</td>\n",
       "    </tr>\n",
       "    <tr>\n",
       "      <th>6</th>\n",
       "      <td>ABADAN</td>\n",
       "      <td>30.366667</td>\n",
       "      <td>48.25</td>\n",
       "      <td>1945-02-23</td>\n",
       "    </tr>\n",
       "    <tr>\n",
       "      <th>7</th>\n",
       "      <td>ABADAN</td>\n",
       "      <td>30.366667</td>\n",
       "      <td>48.25</td>\n",
       "      <td>1945-03-06</td>\n",
       "    </tr>\n",
       "    <tr>\n",
       "      <th>8</th>\n",
       "      <td>ACCRA</td>\n",
       "      <td>5.600000</td>\n",
       "      <td>-0.30</td>\n",
       "      <td>1942-08-21</td>\n",
       "    </tr>\n",
       "    <tr>\n",
       "      <th>9</th>\n",
       "      <td>ACCRA</td>\n",
       "      <td>5.600000</td>\n",
       "      <td>-0.30</td>\n",
       "      <td>1943-06-05</td>\n",
       "    </tr>\n",
       "  </tbody>\n",
       "</table>\n",
       "</div>"
      ],
      "text/plain": [
       "  Weather Station   Latitude  Longitude        Date\n",
       "0          ABADAN  30.366667      48.25  1943-12-23\n",
       "1          ABADAN  30.366667      48.25  1944-01-14\n",
       "2          ABADAN  30.366667      48.25  1944-01-18\n",
       "3          ABADAN  30.366667      48.25  1944-04-18\n",
       "4          ABADAN  30.366667      48.25  1944-11-19\n",
       "5          ABADAN  30.366667      48.25  1944-11-25\n",
       "6          ABADAN  30.366667      48.25  1945-02-23\n",
       "7          ABADAN  30.366667      48.25  1945-03-06\n",
       "8           ACCRA   5.600000      -0.30  1942-08-21\n",
       "9           ACCRA   5.600000      -0.30  1943-06-05"
      ]
     },
     "execution_count": 5,
     "metadata": {
     },
     "output_type": "execute_result"
    }
   ],
   "source": [
    "df.head(10)"
   ]
  }
 ],
 "metadata": {
  "kernelspec": {
   "display_name": "Python 3 (system-wide)",
   "language": "python",
   "metadata": {
    "cocalc": {
     "description": "Python 3 programming language",
     "priority": 100,
     "url": "https://www.python.org/"
    }
   },
   "name": "python3",
   "resource_dir": "/ext/jupyter/kernels/python3"
  },
  "language_info": {
   "codemirror_mode": {
    "name": "ipython",
    "version": 3
   },
   "file_extension": ".py",
   "mimetype": "text/x-python",
   "name": "python",
   "nbconvert_exporter": "python",
   "pygments_lexer": "ipython3",
   "version": "3.8.5"
  }
 },
 "nbformat": 4,
 "nbformat_minor": 4
}